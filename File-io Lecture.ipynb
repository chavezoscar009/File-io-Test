{
 "cells": [
  {
   "cell_type": "markdown",
   "metadata": {},
   "source": [
    "# File-io Lecture"
   ]
  },
  {
   "cell_type": "markdown",
   "metadata": {},
   "source": [
    "# Opening .txt Files"
   ]
  },
  {
   "cell_type": "markdown",
   "metadata": {},
   "source": [
    "The simplest way to open a .txt file is by using numpy's function called $\\it{loadtxt}$. This means that we need to make sure we import numpy into our program before using it."
   ]
  },
  {
   "cell_type": "code",
   "execution_count": null,
   "metadata": {},
   "outputs": [],
   "source": [
    "import numpy as np"
   ]
  },
  {
   "cell_type": "markdown",
   "metadata": {},
   "source": [
    "---"
   ]
  },
  {
   "cell_type": "markdown",
   "metadata": {},
   "source": [
    "Syntax for reading the file into python using numpy's function"
   ]
  },
  {
   "cell_type": "code",
   "execution_count": null,
   "metadata": {},
   "outputs": [],
   "source": [
    "#do not run this cell only for demonstrational purposes\n",
    "file = np.loadtxt('filename')"
   ]
  },
  {
   "cell_type": "markdown",
   "metadata": {},
   "source": [
    "# Important: \n",
    "You need to enclose the filename you are trying to open with quotations, otherwise it will not read the file.\n"
   ]
  },
  {
   "cell_type": "markdown",
   "metadata": {},
   "source": [
    "---"
   ]
  },
  {
   "cell_type": "markdown",
   "metadata": {},
   "source": [
    "Lets use the code above and apply it to opening the sunspots.txt data\n",
    "\n",
    "If you open up the sunspots.txt file using terminal or on jupyter notebook you will see that it has two columns of data.\n",
    "\n",
    "The first column deals with the day of observation and the second column is the number of sunspots observed on that day."
   ]
  },
  {
   "cell_type": "code",
   "execution_count": null,
   "metadata": {},
   "outputs": [],
   "source": [
    "#reading in the file using loadtxt\n",
    "f = np.loadtxt('sunspots.txt')"
   ]
  },
  {
   "cell_type": "markdown",
   "metadata": {},
   "source": [
    "What happens if we just print f"
   ]
  },
  {
   "cell_type": "code",
   "execution_count": null,
   "metadata": {},
   "outputs": [],
   "source": [
    "print(f)"
   ]
  },
  {
   "cell_type": "markdown",
   "metadata": {},
   "source": [
    "Looks like we have a 2D array. Do not worry if this is new to you, this is something that we will go over in detail next week.\n",
    "\n",
    "So what happened when we read in the file, write down your response in the cell below? Hint: recall the format of the data in the text file"
   ]
  },
  {
   "cell_type": "markdown",
   "metadata": {},
   "source": []
  },
  {
   "cell_type": "markdown",
   "metadata": {},
   "source": [
    "---\n"
   ]
  },
  {
   "cell_type": "markdown",
   "metadata": {},
   "source": [
    "To work around this problem $\\it{np.loadtxt}$ has an optional argument you can pass in labeled $\\it{unpack}$"
   ]
  },
  {
   "cell_type": "markdown",
   "metadata": {},
   "source": [
    "What unpack does is that it seperates each column into its own 1D array. Meaning that, for our particular example, the day of observation will be its own 1D array and the number of sunspots its own 1D array."
   ]
  },
  {
   "cell_type": "code",
   "execution_count": null,
   "metadata": {},
   "outputs": [],
   "source": [
    "f = np.loadtxt('sunspots.txt', unpack = True)    "
   ]
  },
  {
   "cell_type": "code",
   "execution_count": null,
   "metadata": {},
   "outputs": [],
   "source": [
    "print(f)"
   ]
  },
  {
   "cell_type": "code",
   "execution_count": null,
   "metadata": {},
   "outputs": [],
   "source": [
    "print(len(f))"
   ]
  },
  {
   "cell_type": "markdown",
   "metadata": {},
   "source": [
    "What would the code above output if the file had 7 columns?"
   ]
  },
  {
   "cell_type": "markdown",
   "metadata": {},
   "source": []
  },
  {
   "cell_type": "markdown",
   "metadata": {},
   "source": [
    "To access the data we index by column position."
   ]
  },
  {
   "cell_type": "code",
   "execution_count": null,
   "metadata": {},
   "outputs": [],
   "source": [
    "#fill in the code below to extract the correct data\n",
    "time = f[]\n",
    "\n",
    "sunspots = f[]"
   ]
  },
  {
   "cell_type": "markdown",
   "metadata": {},
   "source": [
    "This extraction makes them into numpy arrays and so we can do all sorts of science with this. \n",
    "\n",
    "One thing you might want to see is how the data looks like plotted as a function of time."
   ]
  },
  {
   "cell_type": "code",
   "execution_count": null,
   "metadata": {},
   "outputs": [],
   "source": [
    "import pylab as plt"
   ]
  },
  {
   "cell_type": "code",
   "execution_count": null,
   "metadata": {},
   "outputs": [],
   "source": [
    "#Write your plotting code here"
   ]
  },
  {
   "cell_type": "markdown",
   "metadata": {},
   "source": [
    "You can also use multivariable declaration to gather the data from the file as shown below."
   ]
  },
  {
   "cell_type": "code",
   "execution_count": null,
   "metadata": {},
   "outputs": [],
   "source": [
    "time, sunpspot_num = np.loadtxt('sunspots.txt', unpack=True)"
   ]
  },
  {
   "cell_type": "code",
   "execution_count": null,
   "metadata": {},
   "outputs": [],
   "source": [
    "#printing out the time array\n",
    "print(time)"
   ]
  },
  {
   "cell_type": "code",
   "execution_count": null,
   "metadata": {},
   "outputs": [],
   "source": [
    "#printing out the number of sunspots array\n",
    "print(sunspot_num)"
   ]
  },
  {
   "cell_type": "code",
   "execution_count": null,
   "metadata": {},
   "outputs": [],
   "source": [
    "#checking to see if we get the same plot as before\n",
    "plt.figure(figsize = (14, 8))\n",
    "plt.plot(time, sunspot_num)\n",
    "plt.show()"
   ]
  },
  {
   "cell_type": "markdown",
   "metadata": {},
   "source": [
    "Another way to open txt files is using numpy's $\\it{genfromtxt}$ function and it is very similar to $\\it{np.loadtxt}$"
   ]
  },
  {
   "cell_type": "code",
   "execution_count": null,
   "metadata": {},
   "outputs": [],
   "source": [
    "data = np.genfromtxt('sunspots.txt')"
   ]
  },
  {
   "cell_type": "code",
   "execution_count": null,
   "metadata": {},
   "outputs": [],
   "source": [
    "print(data)"
   ]
  },
  {
   "cell_type": "code",
   "execution_count": null,
   "metadata": {},
   "outputs": [],
   "source": [
    "time, num = np.genfromtxt('sunspots.txt', unpack = True)"
   ]
  },
  {
   "cell_type": "code",
   "execution_count": null,
   "metadata": {},
   "outputs": [],
   "source": [
    "time"
   ]
  },
  {
   "cell_type": "code",
   "execution_count": null,
   "metadata": {},
   "outputs": [],
   "source": [
    "num"
   ]
  },
  {
   "cell_type": "markdown",
   "metadata": {},
   "source": [
    "Numpy's $\\it{loadtxt}$ and $\\it{genfromtxt}$ are so powerful that they not only open .txt files they can even open up .dat files. This is another form of storing data into files but the commands for opening these do not change. Simply type in the filename into $\\it{loadtxt}$ or $\\it{genfromtxt}$ and follow the same format as we did with the sunspots.txt file. "
   ]
  },
  {
   "cell_type": "markdown",
   "metadata": {},
   "source": [
    "To show you lets open up a .dat file.\n",
    "\n",
    "The file I am about to open is points from a bell-curve and our goal will be to plot the data as a histogram"
   ]
  },
  {
   "cell_type": "code",
   "execution_count": null,
   "metadata": {},
   "outputs": [],
   "source": [
    "#opening up the file using genfromtxt\n",
    "dat_file = np.genfromtxt('histogram_exercise.dat')"
   ]
  },
  {
   "cell_type": "code",
   "execution_count": null,
   "metadata": {},
   "outputs": [],
   "source": [
    "#opening up the same file using loadtxt\n",
    "dat_file2 = np.loadtxt('histogram_exercise.dat')"
   ]
  },
  {
   "cell_type": "code",
   "execution_count": null,
   "metadata": {},
   "outputs": [],
   "source": [
    "plt.figure(figsize = (10,5))\n",
    "plt.hist(dat_file)\n",
    "plt.show()"
   ]
  },
  {
   "cell_type": "code",
   "execution_count": null,
   "metadata": {},
   "outputs": [],
   "source": [
    "plt.figure(figsize = (10,5))\n",
    "plt.hist(dat_file2)\n",
    "plt.show()"
   ]
  },
  {
   "cell_type": "code",
   "execution_count": null,
   "metadata": {},
   "outputs": [],
   "source": []
  },
  {
   "cell_type": "markdown",
   "metadata": {},
   "source": [
    "# Fits Files"
   ]
  },
  {
   "cell_type": "markdown",
   "metadata": {},
   "source": [
    "If you are going to be doing research in astronomy then you are going to end up seeing .fits files. This is the astronomical standard for file handling. In FITS files you can have a ton of information stored in them. Everything from images to galactic spectrum to even error spectrums can be stored in fits files. So knowing how to use and work with fits files is of great importance as an astronomer."
   ]
  },
  {
   "cell_type": "markdown",
   "metadata": {},
   "source": [
    "---"
   ]
  },
  {
   "cell_type": "markdown",
   "metadata": {},
   "source": [
    "Lets start off in the same way we did with .txt files. Lets try opening up a FITS file"
   ]
  },
  {
   "cell_type": "markdown",
   "metadata": {},
   "source": [
    "Before we start coding we need to import a package from astropy specifically designed for handling FITS files"
   ]
  },
  {
   "cell_type": "code",
   "execution_count": null,
   "metadata": {},
   "outputs": [],
   "source": [
    "from astropy.io import fits"
   ]
  },
  {
   "cell_type": "markdown",
   "metadata": {},
   "source": [
    "Now that we have the necessary package to handle FITS file I will show you how to open one.\n",
    "\n",
    "I'm going to open up the 'spec-1678-53433-0425.fits' file"
   ]
  },
  {
   "cell_type": "code",
   "execution_count": null,
   "metadata": {},
   "outputs": [],
   "source": [
    "hdu = fits.open('spec-1678-53433-0425.fits')"
   ]
  },
  {
   "cell_type": "markdown",
   "metadata": {},
   "source": [
    "This is common convention in opening up a fits file by making an hdu object. The HDU stands for Header Data Unit. The reason for its naming will be clear shortly.\n",
    "\n",
    "As the name says there is a header stored in the hdu object. The header stores all the information about the observation, such as the location of the object, the filter in which the object is observed in, weather condition. And what is included in the header changes from file to file. \n",
    "\n",
    "Lets see what is in the header for the 'spec-1678-53433-0425.fits' file."
   ]
  },
  {
   "cell_type": "code",
   "execution_count": null,
   "metadata": {},
   "outputs": [],
   "source": [
    "#to see the header is common to make a header variable as shown below\n",
    "hdr = hdu[0].header"
   ]
  },
  {
   "cell_type": "markdown",
   "metadata": {},
   "source": [
    "Some important things to note about this syntax is the use of indexing of the hdu. The reason for this is that FITS file can have multiple extensions. And each of these extensions will have its own header. Also note that header does not have parenthesis when calling the header function.\n",
    "\n",
    "Lets try printing out what is in the header."
   ]
  },
  {
   "cell_type": "code",
   "execution_count": null,
   "metadata": {},
   "outputs": [],
   "source": [
    "print(hdr)"
   ]
  },
  {
   "cell_type": "markdown",
   "metadata": {},
   "source": [
    "Depending on the computer you have you either have a full list or its a complete mess.\n",
    "\n",
    "To fix this use the following syntax."
   ]
  },
  {
   "cell_type": "code",
   "execution_count": null,
   "metadata": {},
   "outputs": [],
   "source": [
    "print(repr(hdr))"
   ]
  },
  {
   "cell_type": "markdown",
   "metadata": {},
   "source": [
    "This is the FITS header of what they call the PrimaryHDU, typically what is in here is just information regarding observation of the object. As you can see there is stuff there regarding:\n",
    "\n",
    "    The RA and DEC of the object\n",
    "    The Telescope used in the TELESCOP variable\n",
    "    The exposure time under EXPTIME\n",
    "    Weather data starting from WTIME all the way to WINDS\n",
    "\n",
    "Sometimes the PrimaryHDU has data stored other times they do not. One way to check if they may have data is by looking at the information held within the fits file."
   ]
  },
  {
   "cell_type": "markdown",
   "metadata": {},
   "source": [
    "To do this we use the .info() command on the hdu object."
   ]
  },
  {
   "cell_type": "code",
   "execution_count": null,
   "metadata": {},
   "outputs": [],
   "source": [
    "hdu.info()"
   ]
  },
  {
   "cell_type": "markdown",
   "metadata": {},
   "source": [
    "# Note:\n",
    "Note here, we do not need to specify the extension when looking at the information held within the fits file as we are looking at the whole thing. And note that info has parenthesis. Contrast this to the fits header, this may take some getting used to but once you do these are both powerful tools to help you uncover what is inside a fits file. "
   ]
  },
  {
   "cell_type": "markdown",
   "metadata": {},
   "source": [
    "As mentioned earlier a fits file may or may not have extensions, by using .info() we can clearly see that this file has all the way to extension 3. And to see if data is stored in these extensions a quick way to check is by looking at the dimensions column.\n",
    "\n",
    "# NOTE: \n",
    "Looking at the PRIMARY we can see that the dimensions are non-existence meaning that the PrimaryHDU does not contain any data. The others are non-zero and are in the form of BinTableHDU.\n",
    "\n",
    "I'll show you how to gather data from these."
   ]
  },
  {
   "cell_type": "markdown",
   "metadata": {},
   "source": [
    "---"
   ]
  },
  {
   "cell_type": "markdown",
   "metadata": {},
   "source": [
    "BinTableHDU usually have the data stored by column names and the way you get the data you are after is by referencing the column name."
   ]
  },
  {
   "cell_type": "markdown",
   "metadata": {},
   "source": [
    "To start the process of getting data use the following:"
   ]
  },
  {
   "cell_type": "code",
   "execution_count": null,
   "metadata": {},
   "outputs": [],
   "source": [
    "#this makes a variable called table which holds all the data in the extension 1\n",
    "table = hdu[1].data"
   ]
  },
  {
   "cell_type": "markdown",
   "metadata": {},
   "source": [
    "To see the column names we use the following:"
   ]
  },
  {
   "cell_type": "code",
   "execution_count": null,
   "metadata": {},
   "outputs": [],
   "source": [
    "table.columns"
   ]
  },
  {
   "cell_type": "markdown",
   "metadata": {},
   "source": [
    "Typically what astronomers are after are flux and the wavelength. Also note that this tells you that the wavelengths are logged.\n",
    "\n",
    "Lets get the flux and wavelength information"
   ]
  },
  {
   "cell_type": "code",
   "execution_count": null,
   "metadata": {},
   "outputs": [],
   "source": [
    "flux = table['flux']\n",
    "lam = 10**table['LogLam']"
   ]
  },
  {
   "cell_type": "markdown",
   "metadata": {},
   "source": [
    "I wrote the second one wrong on purpose to show a point, that these column names are case insensitive. They don't care if its upper-case or lower-case so long as the spelling is correct. "
   ]
  },
  {
   "cell_type": "markdown",
   "metadata": {},
   "source": [
    "Now plot lam vs flux below:"
   ]
  },
  {
   "cell_type": "code",
   "execution_count": null,
   "metadata": {},
   "outputs": [],
   "source": []
  },
  {
   "cell_type": "markdown",
   "metadata": {},
   "source": [
    "Congrats, you have successfully gathered data from a fits file and plotted it."
   ]
  },
  {
   "cell_type": "markdown",
   "metadata": {},
   "source": [
    "Now that you used the file and extracted all the information you really do not need the hdu file anymore so you need to close it to free up memory in the computer.\n",
    "\n",
    "To do this simply add .close() to the hdu object you made and this closes the file"
   ]
  },
  {
   "cell_type": "code",
   "execution_count": null,
   "metadata": {},
   "outputs": [],
   "source": [
    "hdu.close()"
   ]
  },
  {
   "cell_type": "markdown",
   "metadata": {},
   "source": [
    "---"
   ]
  },
  {
   "cell_type": "markdown",
   "metadata": {},
   "source": [
    "To really drive home handeling fits file lets go through another fits file."
   ]
  },
  {
   "cell_type": "code",
   "execution_count": null,
   "metadata": {},
   "outputs": [],
   "source": [
    "#opening up the file\n",
    "hdu = fits.open('ud1_01.Y.7673.ell.1d.fits')"
   ]
  },
  {
   "cell_type": "code",
   "execution_count": null,
   "metadata": {},
   "outputs": [],
   "source": [
    "#checking whats inside the file\n",
    "hdu.info()"
   ]
  },
  {
   "cell_type": "code",
   "execution_count": null,
   "metadata": {},
   "outputs": [],
   "source": [
    "#getting the Primary Header\n",
    "hdr = hdu[0].header"
   ]
  },
  {
   "cell_type": "code",
   "execution_count": null,
   "metadata": {},
   "outputs": [],
   "source": [
    "print(repr(hdr))"
   ]
  },
  {
   "cell_type": "markdown",
   "metadata": {},
   "source": [
    "You will see that this one tells you what is stored in the extensions by the comments in the header"
   ]
  },
  {
   "cell_type": "markdown",
   "metadata": {},
   "source": [
    "---"
   ]
  },
  {
   "cell_type": "code",
   "execution_count": null,
   "metadata": {},
   "outputs": [],
   "source": [
    "#getting the data\n",
    "data = hdu[1].data"
   ]
  },
  {
   "cell_type": "code",
   "execution_count": null,
   "metadata": {},
   "outputs": [],
   "source": [
    "#plotting the data to get a look at what it is\n",
    "plt.figure(figsize = (16, 7))\n",
    "plt.plot(data)\n",
    "plt.show()"
   ]
  },
  {
   "cell_type": "markdown",
   "metadata": {},
   "source": [
    "What are some differences between this FITS file and the previous one? What are some similarities?"
   ]
  },
  {
   "cell_type": "markdown",
   "metadata": {},
   "source": []
  },
  {
   "cell_type": "markdown",
   "metadata": {},
   "source": [
    "# Your Turn"
   ]
  },
  {
   "cell_type": "markdown",
   "metadata": {},
   "source": [
    "Below is a fits hdul, mess around with the the file to become more comfortable in handling FITS files."
   ]
  },
  {
   "cell_type": "code",
   "execution_count": null,
   "metadata": {},
   "outputs": [],
   "source": [
    "fits_image_filename = fits.util.get_testdata_filepath('test1.fits')\n",
    "\n",
    "hdul = fits.open(fits_image_filename)"
   ]
  },
  {
   "cell_type": "code",
   "execution_count": null,
   "metadata": {},
   "outputs": [],
   "source": [
    "data = hdul[3].data"
   ]
  },
  {
   "cell_type": "markdown",
   "metadata": {},
   "source": [
    "# Note:\n",
    "\n",
    "You can plot 2D arrays or things with dimensions (x, y) using the code below. Do not worry about understanding this piece of code just yet as we will go over this next week."
   ]
  },
  {
   "cell_type": "code",
   "execution_count": null,
   "metadata": {},
   "outputs": [],
   "source": [
    "#to plot images use the following code\n",
    "from matplotlib.colors import LogNorm\n",
    "plt.figure(figsize = (12, 8))\n",
    "plt.imshow('''Put data here and get rid of quotations''', origin = 'lower', cmap = 'gray', norm = LogNorm())\n",
    "plt.show()"
   ]
  },
  {
   "cell_type": "code",
   "execution_count": null,
   "metadata": {},
   "outputs": [],
   "source": []
  },
  {
   "cell_type": "markdown",
   "metadata": {},
   "source": [
    "---"
   ]
  },
  {
   "cell_type": "markdown",
   "metadata": {},
   "source": [
    "# Reading in lots of Files"
   ]
  },
  {
   "cell_type": "markdown",
   "metadata": {},
   "source": [
    "Often times in research you are asked to got through a whole list of files and do science on each one. So how does one read in all those files in your directory.\n",
    "\n",
    "For this I will teach you guys a package called $\\it{glob}$"
   ]
  },
  {
   "cell_type": "markdown",
   "metadata": {},
   "source": [
    "---"
   ]
  },
  {
   "cell_type": "markdown",
   "metadata": {},
   "source": [
    "Glob is an amazing package and comes installed once you set up anaconda. The way it works is that it is able to return a list of files with a specified pattern from a directory that you can specify or if you do not specify a directory from the directory that your jupyter notebook is running. \n",
    "    \n",
    "As an aside $\\it{glob}$ uses the same commands as terminal uses for pattern recognition and path declaration. \n",
    "\n",
    "This is extremely useful when all your data files have the same extension like .txt or .fits.\n",
    "\n",
    "By simply using glob and specifying which files you want to access it will return them in a list. However, a big caveat to this is that it will return that list of files matching your pattern in any order so you have to sort the file list later."
   ]
  },
  {
   "cell_type": "markdown",
   "metadata": {},
   "source": [
    "---"
   ]
  },
  {
   "cell_type": "markdown",
   "metadata": {},
   "source": [
    "Lets say that your research advisor gave you a lot of .txt files and wanted you to find the peak emission in a spectrum given wavelength and flux information. \n",
    "\n",
    "How would you go about doing this? This is where $\\it{glob}$ comes to the rescue."
   ]
  },
  {
   "cell_type": "code",
   "execution_count": null,
   "metadata": {},
   "outputs": [],
   "source": [
    "#first thing is to import the package\n",
    "import glob as glob"
   ]
  },
  {
   "cell_type": "markdown",
   "metadata": {},
   "source": [
    "Now to access all the files in your current directory with the .txt extension use the following code."
   ]
  },
  {
   "cell_type": "code",
   "execution_count": null,
   "metadata": {},
   "outputs": [],
   "source": [
    "files = [x for x in glob.glob('*.txt')]"
   ]
  },
  {
   "cell_type": "markdown",
   "metadata": {},
   "source": [
    "Let me walk you through what is going on in the code above. \n",
    "\n",
    "What is going on above is something called a list comprehension. And if this is your first time seeing this do not worry, this is just a faster way of making a list than making a for-loop and appending it to the list individually. \n",
    "\n",
    "So the $\\it{x}$ before the $\\it{for}$ is essentially what we want to do with the thing inside the for loop. IN this case this is simply saying just add it to the list."
   ]
  },
  {
   "cell_type": "markdown",
   "metadata": {},
   "source": [
    "----"
   ]
  },
  {
   "cell_type": "markdown",
   "metadata": {},
   "source": [
    "Now for the $\\it{for-loop}$ section, it says:\n",
    "    \n",
    "    for x in glob.glob('*.txt')\n",
    "\n",
    "What this is doing is looping through the list given by glob.glob('*.txt'), which is every file matching your pattern, and every element as it loops through becomes x.\n",
    "\n",
    "To illustrate more clearly what I mean by this take the example below:\n",
    "\n",
    "So lets say glob.glob('*.txt') returned ['sunspots.txt', 'supernova.txt', 'blackholes.txt', 'planet_transit.txt'] \n",
    "\n",
    "for x in glob.glob('*.txt') means that the in the first loop x = 'sunspots.txt'; second loop x = supernova.txt'; third loop x = 'blackholes.txt' and fourth loop x = 'planet_transit.txt'. At each loop you then do the specified action that is stated before the for in the for loop. In this case all we do is just add it to the list."
   ]
  },
  {
   "cell_type": "markdown",
   "metadata": {},
   "source": [
    "---"
   ]
  },
  {
   "cell_type": "markdown",
   "metadata": {},
   "source": [
    "You can then sort your filenames accordingly or branch them off into their own different list by imposing some kind of condition and adding them to the list."
   ]
  },
  {
   "cell_type": "markdown",
   "metadata": {},
   "source": [
    "# Note:"
   ]
  },
  {
   "cell_type": "markdown",
   "metadata": {},
   "source": [
    "Often times reading in a lot of fits files will clog up memory on your computer, one way to handle that is to use the following code."
   ]
  },
  {
   "cell_type": "code",
   "execution_count": null,
   "metadata": {},
   "outputs": [],
   "source": [
    "filenames = [x for x in glob.glob('*.fits')]\n",
    "\n",
    "#goes through each of your filenames in the filenames list above and assigns it the name filename\n",
    "for filename in filenames:\n",
    "    \n",
    "    #what the with does is that it opens the file and then once its done using the file it automatically close it\n",
    "    #this save you both time and memory when reading in a lot of fits files\n",
    "    with fits.open(filename) as hdul:\n",
    "        \n",
    "        #this code may need to be changed depending on where the data is located at in your FITS file\n",
    "        for hdu in hdul:\n",
    "            \n",
    "            #getting the data\n",
    "            hdu_data = hdul.data\n",
    "            # Do some stuff with the data\n",
    "            #\n",
    "            #\n",
    "            #\n",
    "            #\n",
    "            #\n",
    "            #\n",
    "            #"
   ]
  }
 ],
 "metadata": {
  "kernelspec": {
   "display_name": "Python 3",
   "language": "python",
   "name": "python3"
  },
  "language_info": {
   "codemirror_mode": {
    "name": "ipython",
    "version": 3
   },
   "file_extension": ".py",
   "mimetype": "text/x-python",
   "name": "python",
   "nbconvert_exporter": "python",
   "pygments_lexer": "ipython3",
   "version": "3.7.1"
  }
 },
 "nbformat": 4,
 "nbformat_minor": 2
}
